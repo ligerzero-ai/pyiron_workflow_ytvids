{
 "cells": [
  {
   "cell_type": "code",
   "execution_count": 1,
   "metadata": {},
   "outputs": [],
   "source": [
    "from pyiron_workflow import Workflow"
   ]
  },
  {
   "cell_type": "code",
   "execution_count": 2,
   "metadata": {},
   "outputs": [],
   "source": [
    "# Writing a function is as simple as decorating it with @Workflow.wrap.as_function_node()\n",
    "@Workflow.wrap.as_function_node()\n",
    "def AddOne(x):\n",
    "    y = x + 1\n",
    "    return y"
   ]
  },
  {
   "cell_type": "code",
   "execution_count": 3,
   "metadata": {},
   "outputs": [
    {
     "name": "stdout",
     "output_type": "stream",
     "text": [
      "AddOne (AddOne):\n",
      "Inputs ['x']\n",
      "OutputsWithInjection ['y']\n",
      "InputSignals ['run', 'accumulate_and_run']\n",
      "OutputSignals ['ran']\n"
     ]
    }
   ],
   "source": [
    "# So now we have a function that adds one to a number.\n",
    "# But - we can't use it like a normal function:\n",
    "a = 42\n",
    "b = AddOne(x=a)  \n",
    "print(b) # A normal function call would return the result\n",
    "# This returns an empty node - we need to run it to get the result"
   ]
  },
  {
   "cell_type": "code",
   "execution_count": 4,
   "metadata": {},
   "outputs": [
    {
     "name": "stdout",
     "output_type": "stream",
     "text": [
      "43\n",
      "43\n"
     ]
    }
   ],
   "source": [
    "b.run() # or just b() - user's choice!\n",
    "# And get the result - the output is stored in the node's outputs attribute\n",
    "# The outputs are stored as a dictionary, with the keys being the names of the outputs\n",
    "# Here the value is y - since we assigned a=42, and the function adds 1 to it\n",
    "# The expected output is 43\n",
    "\n",
    "print(b.outputs.y.value) # Also accessible as b.outputs[\"y\"].value\n",
    "print(b.outputs[\"y\"].value)"
   ]
  },
  {
   "cell_type": "code",
   "execution_count": 5,
   "metadata": {},
   "outputs": [
    {
     "ename": "ValueError",
     "evalue": "ParseOutput can only parse callables with at most one return value, but ast.walk found 2.",
     "output_type": "error",
     "traceback": [
      "\u001b[0;31m---------------------------------------------------------------------------\u001b[0m",
      "\u001b[0;31mValueError\u001b[0m                                Traceback (most recent call last)",
      "\u001b[1;32m/root/github_dev/pyiron_workflow_ytvids/1_TheBasics_Pt1_YourFirstWorkflow.ipynb Cell 5\u001b[0m line \u001b[0;36m4\n\u001b[1;32m      <a href='vscode-notebook-cell://wsl%2Bubuntu-22.04/root/github_dev/pyiron_workflow_ytvids/1_TheBasics_Pt1_YourFirstWorkflow.ipynb#W4sdnNjb2RlLXJlbW90ZQ%3D%3D?line=0'>1</a>\u001b[0m \u001b[39m# A common gotcha - multiple return statements:\u001b[39;00m\n\u001b[1;32m      <a href='vscode-notebook-cell://wsl%2Bubuntu-22.04/root/github_dev/pyiron_workflow_ytvids/1_TheBasics_Pt1_YourFirstWorkflow.ipynb#W4sdnNjb2RlLXJlbW90ZQ%3D%3D?line=1'>2</a>\u001b[0m \u001b[39m# The function being \"node-ised\" must have only a single return statement - multiple return statements are not allowed\u001b[39;00m\n\u001b[1;32m      <a href='vscode-notebook-cell://wsl%2Bubuntu-22.04/root/github_dev/pyiron_workflow_ytvids/1_TheBasics_Pt1_YourFirstWorkflow.ipynb#W4sdnNjb2RlLXJlbW90ZQ%3D%3D?line=2'>3</a>\u001b[0m \u001b[39m# i.e. The below will return an error\u001b[39;00m\n\u001b[0;32m----> <a href='vscode-notebook-cell://wsl%2Bubuntu-22.04/root/github_dev/pyiron_workflow_ytvids/1_TheBasics_Pt1_YourFirstWorkflow.ipynb#W4sdnNjb2RlLXJlbW90ZQ%3D%3D?line=3'>4</a>\u001b[0m \u001b[39m@Workflow\u001b[39;49m\u001b[39m.\u001b[39;49mwrap\u001b[39m.\u001b[39;49mas_function_node()\n\u001b[1;32m      <a href='vscode-notebook-cell://wsl%2Bubuntu-22.04/root/github_dev/pyiron_workflow_ytvids/1_TheBasics_Pt1_YourFirstWorkflow.ipynb#W4sdnNjb2RlLXJlbW90ZQ%3D%3D?line=4'>5</a>\u001b[0m \u001b[39mdef\u001b[39;49;00m \u001b[39madd_one_subtract_1_conditional\u001b[39;49m(x):\n\u001b[1;32m      <a href='vscode-notebook-cell://wsl%2Bubuntu-22.04/root/github_dev/pyiron_workflow_ytvids/1_TheBasics_Pt1_YourFirstWorkflow.ipynb#W4sdnNjb2RlLXJlbW90ZQ%3D%3D?line=5'>6</a>\u001b[0m     \u001b[39mif\u001b[39;49;00m x \u001b[39m>\u001b[39;49m \u001b[39m0\u001b[39;49m:\n\u001b[1;32m      <a href='vscode-notebook-cell://wsl%2Bubuntu-22.04/root/github_dev/pyiron_workflow_ytvids/1_TheBasics_Pt1_YourFirstWorkflow.ipynb#W4sdnNjb2RlLXJlbW90ZQ%3D%3D?line=6'>7</a>\u001b[0m         y \u001b[39m=\u001b[39;49m x \u001b[39m+\u001b[39;49m \u001b[39m1\u001b[39;49m\n",
      "File \u001b[0;32m~/miniconda3/envs/pyiron_workflow/lib/python3.12/site-packages/pyiron_workflow/nodes/function.py:403\u001b[0m, in \u001b[0;36mas_function_node.<locals>.decorator\u001b[0;34m(node_function)\u001b[0m\n\u001b[1;32m    399\u001b[0m factory_made \u001b[39m=\u001b[39m function_node_factory(\n\u001b[1;32m    400\u001b[0m     node_function, validate_output_labels, \u001b[39m*\u001b[39moutput_labels\n\u001b[1;32m    401\u001b[0m )\n\u001b[1;32m    402\u001b[0m factory_made\u001b[39m.\u001b[39m_class_returns_from_decorated_function \u001b[39m=\u001b[39m node_function\n\u001b[0;32m--> 403\u001b[0m factory_made\u001b[39m.\u001b[39;49mpreview_io()\n\u001b[1;32m    404\u001b[0m \u001b[39mreturn\u001b[39;00m factory_made\n",
      "File \u001b[0;32m~/miniconda3/envs/pyiron_workflow/lib/python3.12/site-packages/pyiron_workflow/mixin/preview.py:80\u001b[0m, in \u001b[0;36mHasIOPreview.preview_io\u001b[0;34m(cls)\u001b[0m\n\u001b[1;32m     77\u001b[0m \u001b[39m@classmethod\u001b[39m\n\u001b[1;32m     78\u001b[0m \u001b[39mdef\u001b[39;00m \u001b[39mpreview_io\u001b[39m(\u001b[39mcls\u001b[39m) \u001b[39m-\u001b[39m\u001b[39m>\u001b[39m DotDict[\u001b[39mstr\u001b[39m:\u001b[39mdict\u001b[39m]:\n\u001b[1;32m     79\u001b[0m     \u001b[39mreturn\u001b[39;00m DotDict(\n\u001b[0;32m---> 80\u001b[0m         {\u001b[39m\"\u001b[39m\u001b[39minputs\u001b[39m\u001b[39m\"\u001b[39m: \u001b[39mcls\u001b[39m\u001b[39m.\u001b[39mpreview_inputs(), \u001b[39m\"\u001b[39m\u001b[39moutputs\u001b[39m\u001b[39m\"\u001b[39m: \u001b[39mcls\u001b[39;49m\u001b[39m.\u001b[39;49mpreview_outputs()}\n\u001b[1;32m     81\u001b[0m     )\n",
      "File \u001b[0;32m~/miniconda3/envs/pyiron_workflow/lib/python3.12/site-packages/pyiron_workflow/mixin/preview.py:75\u001b[0m, in \u001b[0;36mHasIOPreview.preview_outputs\u001b[0;34m(cls)\u001b[0m\n\u001b[1;32m     66\u001b[0m \u001b[39m@classmethod\u001b[39m\n\u001b[1;32m     67\u001b[0m \u001b[39m@lru_cache\u001b[39m(maxsize\u001b[39m=\u001b[39m\u001b[39m1\u001b[39m)\n\u001b[1;32m     68\u001b[0m \u001b[39mdef\u001b[39;00m \u001b[39mpreview_outputs\u001b[39m(\u001b[39mcls\u001b[39m) \u001b[39m-\u001b[39m\u001b[39m>\u001b[39m \u001b[39mdict\u001b[39m[\u001b[39mstr\u001b[39m, Any]:\n\u001b[1;32m     69\u001b[0m \u001b[39m    \u001b[39m\u001b[39m\"\"\"\u001b[39;00m\n\u001b[1;32m     70\u001b[0m \u001b[39m    Gives a class-level peek at the expected outputs.\u001b[39;00m\n\u001b[1;32m     71\u001b[0m \n\u001b[1;32m     72\u001b[0m \u001b[39m    Returns:\u001b[39;00m\n\u001b[1;32m     73\u001b[0m \u001b[39m        dict[str, tuple[Any, Any]]: The output name and its corresponding type hint.\u001b[39;00m\n\u001b[1;32m     74\u001b[0m \u001b[39m    \"\"\"\u001b[39;00m\n\u001b[0;32m---> 75\u001b[0m     \u001b[39mreturn\u001b[39;00m \u001b[39mcls\u001b[39;49m\u001b[39m.\u001b[39;49m_build_outputs_preview()\n",
      "File \u001b[0;32m~/miniconda3/envs/pyiron_workflow/lib/python3.12/site-packages/pyiron_workflow/nodes/function.py:309\u001b[0m, in \u001b[0;36mFunction._build_outputs_preview\u001b[0;34m(cls)\u001b[0m\n\u001b[1;32m    307\u001b[0m \u001b[39m@classmethod\u001b[39m\n\u001b[1;32m    308\u001b[0m \u001b[39mdef\u001b[39;00m \u001b[39m_build_outputs_preview\u001b[39m(\u001b[39mcls\u001b[39m) \u001b[39m-\u001b[39m\u001b[39m>\u001b[39m \u001b[39mdict\u001b[39m[\u001b[39mstr\u001b[39m, Any]:\n\u001b[0;32m--> 309\u001b[0m     preview \u001b[39m=\u001b[39m \u001b[39msuper\u001b[39;49m(Function, \u001b[39mcls\u001b[39;49m)\u001b[39m.\u001b[39;49m_build_outputs_preview()\n\u001b[1;32m    310\u001b[0m     \u001b[39mreturn\u001b[39;00m preview \u001b[39mif\u001b[39;00m \u001b[39mlen\u001b[39m(preview) \u001b[39m>\u001b[39m \u001b[39m0\u001b[39m \u001b[39melse\u001b[39;00m {\u001b[39m\"\u001b[39m\u001b[39mNone\u001b[39m\u001b[39m\"\u001b[39m: \u001b[39mtype\u001b[39m(\u001b[39mNone\u001b[39;00m)}\n",
      "File \u001b[0;32m~/miniconda3/envs/pyiron_workflow/lib/python3.12/site-packages/pyiron_workflow/mixin/preview.py:172\u001b[0m, in \u001b[0;36mScrapesIO._build_outputs_preview\u001b[0;34m(cls)\u001b[0m\n\u001b[1;32m    169\u001b[0m \u001b[39m@classmethod\u001b[39m\n\u001b[1;32m    170\u001b[0m \u001b[39mdef\u001b[39;00m \u001b[39m_build_outputs_preview\u001b[39m(\u001b[39mcls\u001b[39m):\n\u001b[1;32m    171\u001b[0m     \u001b[39mif\u001b[39;00m \u001b[39mcls\u001b[39m\u001b[39m.\u001b[39m_validate_output_labels:\n\u001b[0;32m--> 172\u001b[0m         \u001b[39mcls\u001b[39;49m\u001b[39m.\u001b[39;49m_validate()  \u001b[39m# Validate output on first call\u001b[39;00m\n\u001b[1;32m    174\u001b[0m     labels \u001b[39m=\u001b[39m \u001b[39mcls\u001b[39m\u001b[39m.\u001b[39m_get_output_labels()\n\u001b[1;32m    175\u001b[0m     \u001b[39mif\u001b[39;00m labels \u001b[39mis\u001b[39;00m \u001b[39mNone\u001b[39;00m:\n",
      "File \u001b[0;32m~/miniconda3/envs/pyiron_workflow/lib/python3.12/site-packages/pyiron_workflow/mixin/preview.py:252\u001b[0m, in \u001b[0;36mScrapesIO._validate\u001b[0;34m(cls)\u001b[0m\n\u001b[1;32m    247\u001b[0m \u001b[39m\u001b[39m\u001b[39m\"\"\"\u001b[39;00m\n\u001b[1;32m    248\u001b[0m \u001b[39mEnsure that output_labels, if provided, are commensurate with graph creator\u001b[39;00m\n\u001b[1;32m    249\u001b[0m \u001b[39mreturn values, if provided, and return them as a tuple.\u001b[39;00m\n\u001b[1;32m    250\u001b[0m \u001b[39m\"\"\"\u001b[39;00m\n\u001b[1;32m    251\u001b[0m \u001b[39mtry\u001b[39;00m:\n\u001b[0;32m--> 252\u001b[0m     \u001b[39mcls\u001b[39;49m\u001b[39m.\u001b[39;49m_validate_degeneracy()\n\u001b[1;32m    253\u001b[0m     \u001b[39mcls\u001b[39m\u001b[39m.\u001b[39m_validate_return_count()\n\u001b[1;32m    254\u001b[0m \u001b[39mexcept\u001b[39;00m \u001b[39mOSError\u001b[39;00m:\n",
      "File \u001b[0;32m~/miniconda3/envs/pyiron_workflow/lib/python3.12/site-packages/pyiron_workflow/mixin/preview.py:259\u001b[0m, in \u001b[0;36mScrapesIO._validate_degeneracy\u001b[0;34m(cls)\u001b[0m\n\u001b[1;32m    257\u001b[0m \u001b[39m@classmethod\u001b[39m\n\u001b[1;32m    258\u001b[0m \u001b[39mdef\u001b[39;00m \u001b[39m_validate_degeneracy\u001b[39m(\u001b[39mcls\u001b[39m):\n\u001b[0;32m--> 259\u001b[0m     output_labels \u001b[39m=\u001b[39m \u001b[39mcls\u001b[39;49m\u001b[39m.\u001b[39;49m_get_output_labels()\n\u001b[1;32m    260\u001b[0m     \u001b[39mif\u001b[39;00m output_labels \u001b[39mis\u001b[39;00m \u001b[39mnot\u001b[39;00m \u001b[39mNone\u001b[39;00m \u001b[39mand\u001b[39;00m \u001b[39mlen\u001b[39m(\u001b[39mset\u001b[39m(output_labels)) \u001b[39m!=\u001b[39m \u001b[39mlen\u001b[39m(output_labels):\n\u001b[1;32m    261\u001b[0m         \u001b[39mraise\u001b[39;00m \u001b[39mValueError\u001b[39;00m(\n\u001b[1;32m    262\u001b[0m             \u001b[39mf\u001b[39m\u001b[39m\"\u001b[39m\u001b[39m{\u001b[39;00m\u001b[39mcls\u001b[39m\u001b[39m.\u001b[39m\u001b[39m__name__\u001b[39m\u001b[39m}\u001b[39;00m\u001b[39m must not have degenerate output labels: \u001b[39m\u001b[39m\"\u001b[39m\n\u001b[1;32m    263\u001b[0m             \u001b[39mf\u001b[39m\u001b[39m\"\u001b[39m\u001b[39m{\u001b[39;00moutput_labels\u001b[39m}\u001b[39;00m\u001b[39m\"\u001b[39m\n\u001b[1;32m    264\u001b[0m         )\n",
      "File \u001b[0;32m~/miniconda3/envs/pyiron_workflow/lib/python3.12/site-packages/pyiron_workflow/mixin/preview.py:209\u001b[0m, in \u001b[0;36mScrapesIO._get_output_labels\u001b[0;34m(cls)\u001b[0m\n\u001b[1;32m    204\u001b[0m \u001b[39m\u001b[39m\u001b[39m\"\"\"\u001b[39;00m\n\u001b[1;32m    205\u001b[0m \u001b[39mReturn output labels provided for the class, scraping them from the io-defining\u001b[39;00m\n\u001b[1;32m    206\u001b[0m \u001b[39mfunction if they are not already available.\u001b[39;00m\n\u001b[1;32m    207\u001b[0m \u001b[39m\"\"\"\u001b[39;00m\n\u001b[1;32m    208\u001b[0m \u001b[39mif\u001b[39;00m \u001b[39mcls\u001b[39m\u001b[39m.\u001b[39m_output_labels \u001b[39mis\u001b[39;00m \u001b[39mNone\u001b[39;00m:\n\u001b[0;32m--> 209\u001b[0m     \u001b[39mcls\u001b[39m\u001b[39m.\u001b[39m_output_labels \u001b[39m=\u001b[39m \u001b[39mcls\u001b[39;49m\u001b[39m.\u001b[39;49m_scrape_output_labels()\n\u001b[1;32m    210\u001b[0m \u001b[39mreturn\u001b[39;00m \u001b[39mcls\u001b[39m\u001b[39m.\u001b[39m_output_labels\n",
      "File \u001b[0;32m~/miniconda3/envs/pyiron_workflow/lib/python3.12/site-packages/pyiron_workflow/mixin/preview.py:243\u001b[0m, in \u001b[0;36mScrapesIO._scrape_output_labels\u001b[0;34m(cls)\u001b[0m\n\u001b[1;32m    230\u001b[0m \u001b[39m@classmethod\u001b[39m\n\u001b[1;32m    231\u001b[0m \u001b[39m@lru_cache\u001b[39m(maxsize\u001b[39m=\u001b[39m\u001b[39m1\u001b[39m)\n\u001b[1;32m    232\u001b[0m \u001b[39mdef\u001b[39;00m \u001b[39m_scrape_output_labels\u001b[39m(\u001b[39mcls\u001b[39m):\n\u001b[1;32m    233\u001b[0m \u001b[39m    \u001b[39m\u001b[39m\"\"\"\u001b[39;00m\n\u001b[1;32m    234\u001b[0m \u001b[39m    Inspect :meth:`node_function` to scrape out strings representing the\u001b[39;00m\n\u001b[1;32m    235\u001b[0m \u001b[39m    returned values.\u001b[39;00m\n\u001b[0;32m   (...)\u001b[0m\n\u001b[1;32m    241\u001b[0m \u001b[39m    dot-accessible.\u001b[39;00m\n\u001b[1;32m    242\u001b[0m \u001b[39m    \"\"\"\u001b[39;00m\n\u001b[0;32m--> 243\u001b[0m     \u001b[39mreturn\u001b[39;00m ParseOutput(\u001b[39mcls\u001b[39;49m\u001b[39m.\u001b[39;49m_io_defining_function())\u001b[39m.\u001b[39moutput\n",
      "File \u001b[0;32m~/miniconda3/envs/pyiron_workflow/lib/python3.12/site-packages/pyiron_workflow/output_parser.py:30\u001b[0m, in \u001b[0;36mParseOutput.__init__\u001b[0;34m(self, function)\u001b[0m\n\u001b[1;32m     28\u001b[0m \u001b[39mdef\u001b[39;00m \u001b[39m__init__\u001b[39m(\u001b[39mself\u001b[39m, function):\n\u001b[1;32m     29\u001b[0m     \u001b[39mself\u001b[39m\u001b[39m.\u001b[39m_func \u001b[39m=\u001b[39m function\n\u001b[0;32m---> 30\u001b[0m     \u001b[39mself\u001b[39m\u001b[39m.\u001b[39m_output \u001b[39m=\u001b[39m \u001b[39mself\u001b[39;49m\u001b[39m.\u001b[39;49mget_parsed_output()\n",
      "File \u001b[0;32m~/miniconda3/envs/pyiron_workflow/lib/python3.12/site-packages/pyiron_workflow/output_parser.py:88\u001b[0m, in \u001b[0;36mParseOutput.get_parsed_output\u001b[0;34m(self)\u001b[0m\n\u001b[1;32m     87\u001b[0m \u001b[39mdef\u001b[39;00m \u001b[39mget_parsed_output\u001b[39m(\u001b[39mself\u001b[39m):\n\u001b[0;32m---> 88\u001b[0m     \u001b[39mif\u001b[39;00m \u001b[39mself\u001b[39;49m\u001b[39m.\u001b[39;49mnode_return \u001b[39mis\u001b[39;00m \u001b[39mNone\u001b[39;00m \u001b[39mor\u001b[39;00m \u001b[39mself\u001b[39m\u001b[39m.\u001b[39mnode_return\u001b[39m.\u001b[39mvalue \u001b[39mis\u001b[39;00m \u001b[39mNone\u001b[39;00m:\n\u001b[1;32m     89\u001b[0m         \u001b[39mreturn\u001b[39;00m\n\u001b[1;32m     90\u001b[0m     \u001b[39melif\u001b[39;00m \u001b[39misinstance\u001b[39m(\u001b[39mself\u001b[39m\u001b[39m.\u001b[39mnode_return\u001b[39m.\u001b[39mvalue, ast\u001b[39m.\u001b[39mTuple):\n",
      "File \u001b[0;32m~/miniconda3/envs/pyiron_workflow/lib/python3.12/site-packages/pyiron_workflow/output_parser.py:49\u001b[0m, in \u001b[0;36mParseOutput.node_return\u001b[0;34m(self)\u001b[0m\n\u001b[1;32m     46\u001b[0m         returns\u001b[39m.\u001b[39mappend(node)\n\u001b[1;32m     48\u001b[0m \u001b[39mif\u001b[39;00m \u001b[39mlen\u001b[39m(returns) \u001b[39m>\u001b[39m \u001b[39m1\u001b[39m:\n\u001b[0;32m---> 49\u001b[0m     \u001b[39mraise\u001b[39;00m \u001b[39mValueError\u001b[39;00m(\n\u001b[1;32m     50\u001b[0m         \u001b[39mf\u001b[39m\u001b[39m\"\u001b[39m\u001b[39m{\u001b[39;00m\u001b[39mself\u001b[39m\u001b[39m.\u001b[39m\u001b[39m__class__\u001b[39m\u001b[39m.\u001b[39m\u001b[39m__name__\u001b[39m\u001b[39m}\u001b[39;00m\u001b[39m can only parse callables with at most one \u001b[39m\u001b[39m\"\u001b[39m\n\u001b[1;32m     51\u001b[0m         \u001b[39mf\u001b[39m\u001b[39m\"\u001b[39m\u001b[39mreturn value, but ast.walk found \u001b[39m\u001b[39m{\u001b[39;00m\u001b[39mlen\u001b[39m(returns)\u001b[39m}\u001b[39;00m\u001b[39m.\u001b[39m\u001b[39m\"\u001b[39m\n\u001b[1;32m     52\u001b[0m     )\n\u001b[1;32m     54\u001b[0m \u001b[39mtry\u001b[39;00m:\n\u001b[1;32m     55\u001b[0m     \u001b[39mreturn\u001b[39;00m returns[\u001b[39m0\u001b[39m]\n",
      "\u001b[0;31mValueError\u001b[0m: ParseOutput can only parse callables with at most one return value, but ast.walk found 2."
     ]
    }
   ],
   "source": [
    "# A common gotcha - multiple return statements:\n",
    "# The function being \"node-ised\" must have only a single return statement - multiple return statements are not allowed\n",
    "# i.e. The below will return an error\n",
    "@Workflow.wrap.as_function_node()\n",
    "def add_one_subtract_1_conditional(x):\n",
    "    if x > 0:\n",
    "        y = x + 1\n",
    "        return y\n",
    "    else:\n",
    "        y = x - 1\n",
    "        return y\n",
    "# This will return an error\n",
    "faulty_node = add_one_subtract_1_conditional(x=a)\n",
    "faulty_node.run()\n",
    "print(faulty_node.outputs[\"y\"].value)"
   ]
  },
  {
   "cell_type": "code",
   "execution_count": 6,
   "metadata": {},
   "outputs": [
    {
     "name": "stdout",
     "output_type": "stream",
     "text": [
      "43\n"
     ]
    }
   ],
   "source": [
    "# A simple way to get around this is to use a middleman variable\n",
    "@Workflow.wrap.as_function_node(\"y\")\n",
    "def add_one_subtract_1_conditional_middleman(x):\n",
    "    middleman = x + 1 if x > 0 else x - 1\n",
    "    return middleman\n",
    "# This will work\n",
    "fixed_node = add_one_subtract_1_conditional_middleman(x=a)\n",
    "fixed_node.run()\n",
    "print(fixed_node.outputs.y.value)"
   ]
  },
  {
   "cell_type": "code",
   "execution_count": 7,
   "metadata": {},
   "outputs": [
    {
     "name": "stdout",
     "output_type": "stream",
     "text": [
      "OutputsWithInjection ['added_one'] 43\n"
     ]
    }
   ],
   "source": [
    "# Adjusting the name of the output is as simple as changing the name of the output in the decorator\n",
    "@Workflow.wrap.as_function_node(\"added_one\")\n",
    "def AddOne_moddedoutput(x):\n",
    "    y = x + 1\n",
    "    return y\n",
    "\n",
    "a = 42\n",
    "b = AddOne_moddedoutput(a)\n",
    "b.run()\n",
    "print(b.outputs, b.outputs.added_one.value)"
   ]
  },
  {
   "cell_type": "code",
   "execution_count": 8,
   "metadata": {},
   "outputs": [
    {
     "name": "stdout",
     "output_type": "stream",
     "text": [
      "43\n",
      "86\n"
     ]
    }
   ],
   "source": [
    "# Creating our first workflow\n",
    "wf = Workflow(\"FirstWorkflow\")\n",
    "# Adding a function node to the workflow\n",
    "# We can name the workflow node anything we like - in this case add_node\n",
    "wf.add_node = AddOne(x=42)\n",
    "# Define a new function node\n",
    "@Workflow.wrap.as_function_node(\"y\")\n",
    "def multiply_by_2(x):\n",
    "    y = x * 2\n",
    "    return y\n",
    "# Add the new function node to the workflow - use the output of the previous node as the input\n",
    "wf.multiply_added = multiply_by_2(x=wf.add_node.outputs.y)\n",
    "# Running the workflow\n",
    "wf.run()\n",
    "# Getting the result\n",
    "print(wf.add_node.outputs.y.value)\n",
    "print(wf.multiply_added.outputs.y.value)"
   ]
  },
  {
   "cell_type": "markdown",
   "metadata": {},
   "source": [
    "If there's only one output on a node - you can have a syntax shortcut - it will automatically assume that single output is what you want to input into the node."
   ]
  },
  {
   "cell_type": "code",
   "execution_count": 9,
   "metadata": {},
   "outputs": [
    {
     "data": {
      "text/plain": [
       "{'multiply_added__y': 86}"
      ]
     },
     "execution_count": 9,
     "metadata": {},
     "output_type": "execute_result"
    }
   ],
   "source": [
    "wf2 = Workflow(\"SecondWorkflow\")\n",
    "wf2.add_node = AddOne(x=42)\n",
    "wf2.multiply_added = multiply_by_2(wf2.add_node)\n",
    "wf2.run()"
   ]
  },
  {
   "cell_type": "code",
   "execution_count": 10,
   "metadata": {},
   "outputs": [
    {
     "data": {
      "image/svg+xml": [
       "<?xml version=\"1.0\" encoding=\"UTF-8\" standalone=\"no\"?>\n",
       "<!DOCTYPE svg PUBLIC \"-//W3C//DTD SVG 1.1//EN\"\n",
       " \"http://www.w3.org/Graphics/SVG/1.1/DTD/svg11.dtd\">\n",
       "<!-- Generated by graphviz version 11.0.0 (20240519.1550)\n",
       " -->\n",
       "<!-- Title: clusterFirstWorkflow Pages: 1 -->\n",
       "<svg width=\"1092pt\" height=\"309pt\"\n",
       " viewBox=\"0.00 0.00 1092.24 308.75\" xmlns=\"http://www.w3.org/2000/svg\" xmlns:xlink=\"http://www.w3.org/1999/xlink\">\n",
       "<g id=\"graph0\" class=\"graph\" transform=\"scale(1 1) rotate(0) translate(4 304.75)\">\n",
       "<title>clusterFirstWorkflow</title>\n",
       "<polygon fill=\"white\" stroke=\"none\" points=\"-4,4 -4,-304.75 1088.24,-304.75 1088.24,4 -4,4\"/>\n",
       "<text text-anchor=\"middle\" x=\"542.12\" y=\"-6.45\" font-family=\"Helvetica,sans-Serif\" font-size=\"14.00\">FirstWorkflow: Workflow</text>\n",
       "<g id=\"clust1\" class=\"cluster\">\n",
       "<title>clusterFirstWorkflowInputs</title>\n",
       "<defs>\n",
       "<linearGradient id=\"clust1_l_0\" gradientUnits=\"userSpaceOnUse\" x1=\"8\" y1=\"-139.75\" x2=\"166.75\" y2=\"-139.75\" >\n",
       "<stop offset=\"0\" style=\"stop-color:#a5a4a5;stop-opacity:1.;\"/>\n",
       "<stop offset=\"1\" style=\"stop-color:#e4e3e4;stop-opacity:1.;\"/>\n",
       "</linearGradient>\n",
       "</defs>\n",
       "<polygon fill=\"url(#clust1_l_0)\" stroke=\"#a5a4a5\" points=\"8,-47.75 8,-231.75 166.75,-231.75 166.75,-47.75 8,-47.75\"/>\n",
       "<text text-anchor=\"middle\" x=\"87.38\" y=\"-214.45\" font-family=\"Helvetica,sans-Serif\" font-size=\"14.00\">Inputs</text>\n",
       "</g>\n",
       "<g id=\"clust2\" class=\"cluster\">\n",
       "<title>clusterFirstWorkflowOutputs</title>\n",
       "<defs>\n",
       "<linearGradient id=\"clust2_l_1\" gradientUnits=\"userSpaceOnUse\" x1=\"1076.24\" y1=\"-99.75\" x2=\"888.25\" y2=\"-99.75\" >\n",
       "<stop offset=\"0\" style=\"stop-color:#a5a4a5;stop-opacity:1.;\"/>\n",
       "<stop offset=\"1\" style=\"stop-color:#e4e3e4;stop-opacity:1.;\"/>\n",
       "</linearGradient>\n",
       "</defs>\n",
       "<polygon fill=\"url(#clust2_l_1)\" stroke=\"#a5a4a5\" points=\"888.25,-34.75 888.25,-164.75 1076.24,-164.75 1076.24,-34.75 888.25,-34.75\"/>\n",
       "<text text-anchor=\"middle\" x=\"982.24\" y=\"-147.45\" font-family=\"Helvetica,sans-Serif\" font-size=\"14.00\">Outputs</text>\n",
       "</g>\n",
       "<g id=\"clust3\" class=\"cluster\">\n",
       "<title>clusterFirstWorkflowadd_node</title>\n",
       "<defs>\n",
       "<linearGradient id=\"clust3_l_2\" gradientUnits=\"userSpaceOnUse\" x1=\"178.75\" y1=\"-180.75\" x2=\"523.5\" y2=\"-180.75\" >\n",
       "<stop offset=\"0\" style=\"stop-color:#bfe2bf;stop-opacity:1.;\"/>\n",
       "<stop offset=\"1\" style=\"stop-color:#bfe2bf;stop-opacity:1.;\"/>\n",
       "</linearGradient>\n",
       "</defs>\n",
       "<polygon fill=\"url(#clust3_l_2)\" stroke=\"#bfe2bf\" points=\"178.75,-68.75 178.75,-292.75 523.5,-292.75 523.5,-68.75 178.75,-68.75\"/>\n",
       "<text text-anchor=\"middle\" x=\"351.13\" y=\"-275.45\" font-family=\"Helvetica,sans-Serif\" font-size=\"14.00\">add_node: AddOne</text>\n",
       "</g>\n",
       "<g id=\"clust4\" class=\"cluster\">\n",
       "<title>clusterFirstWorkflowadd_nodeInputs</title>\n",
       "<defs>\n",
       "<linearGradient id=\"clust4_l_3\" gradientUnits=\"userSpaceOnUse\" x1=\"186.75\" y1=\"-168.75\" x2=\"345.5\" y2=\"-168.75\" >\n",
       "<stop offset=\"0\" style=\"stop-color:#a5a4a5;stop-opacity:1.;\"/>\n",
       "<stop offset=\"1\" style=\"stop-color:#e4e3e4;stop-opacity:1.;\"/>\n",
       "</linearGradient>\n",
       "</defs>\n",
       "<polygon fill=\"url(#clust4_l_3)\" stroke=\"#a5a4a5\" points=\"186.75,-76.75 186.75,-260.75 345.5,-260.75 345.5,-76.75 186.75,-76.75\"/>\n",
       "<text text-anchor=\"middle\" x=\"266.13\" y=\"-243.45\" font-family=\"Helvetica,sans-Serif\" font-size=\"14.00\">Inputs</text>\n",
       "</g>\n",
       "<g id=\"clust5\" class=\"cluster\">\n",
       "<title>clusterFirstWorkflowadd_nodeOutputsWithInjection</title>\n",
       "<defs>\n",
       "<linearGradient id=\"clust5_l_4\" gradientUnits=\"userSpaceOnUse\" x1=\"515.5\" y1=\"-168.75\" x2=\"373.5\" y2=\"-168.75\" >\n",
       "<stop offset=\"0\" style=\"stop-color:#a5a4a5;stop-opacity:1.;\"/>\n",
       "<stop offset=\"1\" style=\"stop-color:#e4e3e4;stop-opacity:1.;\"/>\n",
       "</linearGradient>\n",
       "</defs>\n",
       "<polygon fill=\"url(#clust5_l_4)\" stroke=\"#a5a4a5\" points=\"373.5,-103.75 373.5,-233.75 515.5,-233.75 515.5,-103.75 373.5,-103.75\"/>\n",
       "<text text-anchor=\"middle\" x=\"444.5\" y=\"-216.45\" font-family=\"Helvetica,sans-Serif\" font-size=\"14.00\">OutputsWithInjection</text>\n",
       "</g>\n",
       "<g id=\"clust6\" class=\"cluster\">\n",
       "<title>clusterFirstWorkflowmultiply_added</title>\n",
       "<defs>\n",
       "<linearGradient id=\"clust6_l_5\" gradientUnits=\"userSpaceOnUse\" x1=\"531.5\" y1=\"-153.75\" x2=\"876.25\" y2=\"-153.75\" >\n",
       "<stop offset=\"0\" style=\"stop-color:#bfe2bf;stop-opacity:1.;\"/>\n",
       "<stop offset=\"1\" style=\"stop-color:#bfe2bf;stop-opacity:1.;\"/>\n",
       "</linearGradient>\n",
       "</defs>\n",
       "<polygon fill=\"url(#clust6_l_5)\" stroke=\"#bfe2bf\" points=\"531.5,-41.75 531.5,-265.75 876.25,-265.75 876.25,-41.75 531.5,-41.75\"/>\n",
       "<text text-anchor=\"middle\" x=\"703.88\" y=\"-248.45\" font-family=\"Helvetica,sans-Serif\" font-size=\"14.00\">multiply_added: multiply_by_2</text>\n",
       "</g>\n",
       "<g id=\"clust7\" class=\"cluster\">\n",
       "<title>clusterFirstWorkflowmultiply_addedInputs</title>\n",
       "<defs>\n",
       "<linearGradient id=\"clust7_l_6\" gradientUnits=\"userSpaceOnUse\" x1=\"539.5\" y1=\"-141.75\" x2=\"698.25\" y2=\"-141.75\" >\n",
       "<stop offset=\"0\" style=\"stop-color:#a5a4a5;stop-opacity:1.;\"/>\n",
       "<stop offset=\"1\" style=\"stop-color:#e4e3e4;stop-opacity:1.;\"/>\n",
       "</linearGradient>\n",
       "</defs>\n",
       "<polygon fill=\"url(#clust7_l_6)\" stroke=\"#a5a4a5\" points=\"539.5,-49.75 539.5,-233.75 698.25,-233.75 698.25,-49.75 539.5,-49.75\"/>\n",
       "<text text-anchor=\"middle\" x=\"618.88\" y=\"-216.45\" font-family=\"Helvetica,sans-Serif\" font-size=\"14.00\">Inputs</text>\n",
       "</g>\n",
       "<g id=\"clust8\" class=\"cluster\">\n",
       "<title>clusterFirstWorkflowmultiply_addedOutputsWithInjection</title>\n",
       "<defs>\n",
       "<linearGradient id=\"clust8_l_7\" gradientUnits=\"userSpaceOnUse\" x1=\"868.25\" y1=\"-114.75\" x2=\"726.25\" y2=\"-114.75\" >\n",
       "<stop offset=\"0\" style=\"stop-color:#a5a4a5;stop-opacity:1.;\"/>\n",
       "<stop offset=\"1\" style=\"stop-color:#e4e3e4;stop-opacity:1.;\"/>\n",
       "</linearGradient>\n",
       "</defs>\n",
       "<polygon fill=\"url(#clust8_l_7)\" stroke=\"#a5a4a5\" points=\"726.25,-49.75 726.25,-179.75 868.25,-179.75 868.25,-49.75 726.25,-49.75\"/>\n",
       "<text text-anchor=\"middle\" x=\"797.25\" y=\"-162.45\" font-family=\"Helvetica,sans-Serif\" font-size=\"14.00\">OutputsWithInjection</text>\n",
       "</g>\n",
       "<!-- clusterFirstWorkflowInputsrun -->\n",
       "<g id=\"node1\" class=\"node\">\n",
       "<title>clusterFirstWorkflowInputsrun</title>\n",
       "<polygon fill=\"#21bfd8\" stroke=\"#21bfd8\" points=\"102.38,-85.75 60.38,-85.75 60.38,-61.75 102.38,-61.75 114.38,-73.75 102.38,-85.75\"/>\n",
       "<text text-anchor=\"middle\" x=\"87.38\" y=\"-68.33\" font-family=\"Helvetica,sans-Serif\" font-size=\"14.00\">run</text>\n",
       "</g>\n",
       "<!-- clusterFirstWorkflowOutputsran -->\n",
       "<g id=\"node4\" class=\"node\">\n",
       "<title>clusterFirstWorkflowOutputsran</title>\n",
       "<polygon fill=\"#21bfd8\" stroke=\"#21bfd8\" points=\"997.24,-72.75 955.24,-72.75 955.24,-48.75 997.24,-48.75 1009.24,-60.75 997.24,-72.75\"/>\n",
       "<text text-anchor=\"middle\" x=\"982.24\" y=\"-55.33\" font-family=\"Helvetica,sans-Serif\" font-size=\"14.00\">ran</text>\n",
       "</g>\n",
       "<!-- clusterFirstWorkflowInputsrun&#45;&gt;clusterFirstWorkflowOutputsran -->\n",
       "<!-- clusterFirstWorkflowInputsaccumulate_and_run -->\n",
       "<g id=\"node2\" class=\"node\">\n",
       "<title>clusterFirstWorkflowInputsaccumulate_and_run</title>\n",
       "<polygon fill=\"#21bfd8\" stroke=\"#21bfd8\" points=\"146.75,-139.75 16,-139.75 16,-115.75 146.75,-115.75 158.75,-127.75 146.75,-139.75\"/>\n",
       "<text text-anchor=\"middle\" x=\"87.38\" y=\"-122.33\" font-family=\"Helvetica,sans-Serif\" font-size=\"14.00\">accumulate_and_run</text>\n",
       "</g>\n",
       "<!-- clusterFirstWorkflowInputsadd_node__x -->\n",
       "<g id=\"node3\" class=\"node\">\n",
       "<title>clusterFirstWorkflowInputsadd_node__x</title>\n",
       "<ellipse fill=\"#edb22c\" stroke=\"#edb22c\" cx=\"87.38\" cy=\"-181.75\" rx=\"65.04\" ry=\"18\"/>\n",
       "<text text-anchor=\"middle\" x=\"87.38\" y=\"-176.32\" font-family=\"Helvetica,sans-Serif\" font-size=\"14.00\">add_node__x</text>\n",
       "</g>\n",
       "<!-- clusterFirstWorkflowadd_nodeInputsx -->\n",
       "<g id=\"node8\" class=\"node\">\n",
       "<title>clusterFirstWorkflowadd_nodeInputsx</title>\n",
       "<ellipse fill=\"#edb22c\" stroke=\"#edb22c\" cx=\"266.13\" cy=\"-210.75\" rx=\"27\" ry=\"18\"/>\n",
       "<text text-anchor=\"middle\" x=\"266.13\" y=\"-205.32\" font-family=\"Helvetica,sans-Serif\" font-size=\"14.00\">x</text>\n",
       "</g>\n",
       "<!-- clusterFirstWorkflowInputsadd_node__x&#45;&gt;clusterFirstWorkflowadd_nodeInputsx -->\n",
       "<g id=\"edge6\" class=\"edge\">\n",
       "<title>clusterFirstWorkflowInputsadd_node__x&#45;&gt;clusterFirstWorkflowadd_nodeInputsx</title>\n",
       "<path fill=\"none\" stroke=\"#edb22c\" d=\"M143.81,-190.85C157.56,-193.1 172.55,-195.56 187.15,-197.96\"/>\n",
       "<path fill=\"none\" stroke=\"#edb22c\" d=\"M187.15,-197.96C201.75,-200.35 215.97,-202.69 228.18,-204.69\"/>\n",
       "<polygon fill=\"#edb22c\" stroke=\"#edb22c\" points=\"227.54,-208.13 237.97,-206.3 228.67,-201.22 227.54,-208.13\"/>\n",
       "</g>\n",
       "<!-- clusterFirstWorkflowOutputsmultiply_added__y -->\n",
       "<g id=\"node5\" class=\"node\">\n",
       "<title>clusterFirstWorkflowOutputsmultiply_added__y</title>\n",
       "<ellipse fill=\"#edb22c\" stroke=\"#edb22c\" cx=\"982.24\" cy=\"-114.75\" rx=\"85.99\" ry=\"18\"/>\n",
       "<text text-anchor=\"middle\" x=\"982.24\" y=\"-109.33\" font-family=\"Helvetica,sans-Serif\" font-size=\"14.00\">multiply_added__y</text>\n",
       "</g>\n",
       "<!-- clusterFirstWorkflowadd_nodeInputsrun -->\n",
       "<g id=\"node6\" class=\"node\">\n",
       "<title>clusterFirstWorkflowadd_nodeInputsrun</title>\n",
       "<polygon fill=\"#21bfd8\" stroke=\"#21bfd8\" points=\"281.13,-114.75 239.13,-114.75 239.13,-90.75 281.13,-90.75 293.13,-102.75 281.13,-114.75\"/>\n",
       "<text text-anchor=\"middle\" x=\"266.13\" y=\"-97.33\" font-family=\"Helvetica,sans-Serif\" font-size=\"14.00\">run</text>\n",
       "</g>\n",
       "<!-- clusterFirstWorkflowadd_nodeOutputsWithInjectionran -->\n",
       "<g id=\"node9\" class=\"node\">\n",
       "<title>clusterFirstWorkflowadd_nodeOutputsWithInjectionran</title>\n",
       "<polygon fill=\"#21bfd8\" stroke=\"#21bfd8\" points=\"459.5,-141.75 417.5,-141.75 417.5,-117.75 459.5,-117.75 471.5,-129.75 459.5,-141.75\"/>\n",
       "<text text-anchor=\"middle\" x=\"444.5\" y=\"-124.33\" font-family=\"Helvetica,sans-Serif\" font-size=\"14.00\">ran</text>\n",
       "</g>\n",
       "<!-- clusterFirstWorkflowadd_nodeInputsrun&#45;&gt;clusterFirstWorkflowadd_nodeOutputsWithInjectionran -->\n",
       "<!-- clusterFirstWorkflowadd_nodeInputsaccumulate_and_run -->\n",
       "<g id=\"node7\" class=\"node\">\n",
       "<title>clusterFirstWorkflowadd_nodeInputsaccumulate_and_run</title>\n",
       "<polygon fill=\"#21bfd8\" stroke=\"#21bfd8\" points=\"325.5,-168.75 194.75,-168.75 194.75,-144.75 325.5,-144.75 337.5,-156.75 325.5,-168.75\"/>\n",
       "<text text-anchor=\"middle\" x=\"266.13\" y=\"-151.32\" font-family=\"Helvetica,sans-Serif\" font-size=\"14.00\">accumulate_and_run</text>\n",
       "</g>\n",
       "<!-- clusterFirstWorkflowmultiply_addedInputsaccumulate_and_run -->\n",
       "<g id=\"node12\" class=\"node\">\n",
       "<title>clusterFirstWorkflowmultiply_addedInputsaccumulate_and_run</title>\n",
       "<polygon fill=\"#21bfd8\" stroke=\"#21bfd8\" points=\"678.25,-141.75 547.5,-141.75 547.5,-117.75 678.25,-117.75 690.25,-129.75 678.25,-141.75\"/>\n",
       "<text text-anchor=\"middle\" x=\"618.88\" y=\"-124.33\" font-family=\"Helvetica,sans-Serif\" font-size=\"14.00\">accumulate_and_run</text>\n",
       "</g>\n",
       "<!-- clusterFirstWorkflowadd_nodeOutputsWithInjectionran&#45;&gt;clusterFirstWorkflowmultiply_addedInputsaccumulate_and_run -->\n",
       "<g id=\"edge4\" class=\"edge\">\n",
       "<title>clusterFirstWorkflowadd_nodeOutputsWithInjectionran&#45;&gt;clusterFirstWorkflowmultiply_addedInputsaccumulate_and_run</title>\n",
       "<path fill=\"none\" stroke=\"#21bfd8\" d=\"M471.68,-129.75C480.3,-129.75 490.51,-129.75 501.47,-129.75\"/>\n",
       "<path fill=\"none\" stroke=\"#21bfd8\" d=\"M501.47,-129.75C512.42,-129.75 524.12,-129.75 535.73,-129.75\"/>\n",
       "<polygon fill=\"#21bfd8\" stroke=\"#21bfd8\" points=\"535.54,-133.25 545.54,-129.75 535.54,-126.25 535.54,-133.25\"/>\n",
       "</g>\n",
       "<!-- clusterFirstWorkflowadd_nodeOutputsWithInjectiony -->\n",
       "<g id=\"node10\" class=\"node\">\n",
       "<title>clusterFirstWorkflowadd_nodeOutputsWithInjectiony</title>\n",
       "<ellipse fill=\"#edb22c\" stroke=\"#edb22c\" cx=\"444.5\" cy=\"-183.75\" rx=\"27\" ry=\"18\"/>\n",
       "<text text-anchor=\"middle\" x=\"444.5\" y=\"-178.32\" font-family=\"Helvetica,sans-Serif\" font-size=\"14.00\">y</text>\n",
       "</g>\n",
       "<!-- clusterFirstWorkflowmultiply_addedInputsx -->\n",
       "<g id=\"node13\" class=\"node\">\n",
       "<title>clusterFirstWorkflowmultiply_addedInputsx</title>\n",
       "<ellipse fill=\"#edb22c\" stroke=\"#edb22c\" cx=\"618.88\" cy=\"-183.75\" rx=\"27\" ry=\"18\"/>\n",
       "<text text-anchor=\"middle\" x=\"618.88\" y=\"-178.32\" font-family=\"Helvetica,sans-Serif\" font-size=\"14.00\">x</text>\n",
       "</g>\n",
       "<!-- clusterFirstWorkflowadd_nodeOutputsWithInjectiony&#45;&gt;clusterFirstWorkflowmultiply_addedInputsx -->\n",
       "<g id=\"edge5\" class=\"edge\">\n",
       "<title>clusterFirstWorkflowadd_nodeOutputsWithInjectiony&#45;&gt;clusterFirstWorkflowmultiply_addedInputsx</title>\n",
       "<path fill=\"none\" stroke=\"#edb22c\" d=\"M471.68,-183.75C486.11,-183.75 504.99,-183.75 524.37,-183.75\"/>\n",
       "<path fill=\"none\" stroke=\"#edb22c\" d=\"M524.37,-183.75C543.75,-183.75 563.62,-183.75 580.04,-183.75\"/>\n",
       "<polygon fill=\"#edb22c\" stroke=\"#edb22c\" points=\"579.94,-187.25 589.94,-183.75 579.93,-180.25 579.94,-187.25\"/>\n",
       "</g>\n",
       "<!-- clusterFirstWorkflowmultiply_addedInputsrun -->\n",
       "<g id=\"node11\" class=\"node\">\n",
       "<title>clusterFirstWorkflowmultiply_addedInputsrun</title>\n",
       "<polygon fill=\"#21bfd8\" stroke=\"#21bfd8\" points=\"633.88,-87.75 591.88,-87.75 591.88,-63.75 633.88,-63.75 645.88,-75.75 633.88,-87.75\"/>\n",
       "<text text-anchor=\"middle\" x=\"618.88\" y=\"-70.33\" font-family=\"Helvetica,sans-Serif\" font-size=\"14.00\">run</text>\n",
       "</g>\n",
       "<!-- clusterFirstWorkflowmultiply_addedOutputsWithInjectionran -->\n",
       "<g id=\"node14\" class=\"node\">\n",
       "<title>clusterFirstWorkflowmultiply_addedOutputsWithInjectionran</title>\n",
       "<polygon fill=\"#21bfd8\" stroke=\"#21bfd8\" points=\"812.25,-87.75 770.25,-87.75 770.25,-63.75 812.25,-63.75 824.25,-75.75 812.25,-87.75\"/>\n",
       "<text text-anchor=\"middle\" x=\"797.25\" y=\"-70.33\" font-family=\"Helvetica,sans-Serif\" font-size=\"14.00\">ran</text>\n",
       "</g>\n",
       "<!-- clusterFirstWorkflowmultiply_addedInputsrun&#45;&gt;clusterFirstWorkflowmultiply_addedOutputsWithInjectionran -->\n",
       "<!-- clusterFirstWorkflowmultiply_addedOutputsWithInjectiony -->\n",
       "<g id=\"node15\" class=\"node\">\n",
       "<title>clusterFirstWorkflowmultiply_addedOutputsWithInjectiony</title>\n",
       "<ellipse fill=\"#edb22c\" stroke=\"#edb22c\" cx=\"797.25\" cy=\"-129.75\" rx=\"27\" ry=\"18\"/>\n",
       "<text text-anchor=\"middle\" x=\"797.25\" y=\"-124.33\" font-family=\"Helvetica,sans-Serif\" font-size=\"14.00\">y</text>\n",
       "</g>\n",
       "<!-- clusterFirstWorkflowmultiply_addedOutputsWithInjectiony&#45;&gt;clusterFirstWorkflowOutputsmultiply_added__y -->\n",
       "<g id=\"edge7\" class=\"edge\">\n",
       "<title>clusterFirstWorkflowmultiply_addedOutputsWithInjectiony&#45;&gt;clusterFirstWorkflowOutputsmultiply_added__y</title>\n",
       "<path fill=\"none\" stroke=\"#edb22c\" d=\"M824.47,-127.6C833.21,-126.88 843.62,-126.03 854.85,-125.11\"/>\n",
       "<path fill=\"none\" stroke=\"#edb22c\" d=\"M854.85,-125.11C866.08,-124.19 878.13,-123.2 890.18,-122.21\"/>\n",
       "<polygon fill=\"#edb22c\" stroke=\"#edb22c\" points=\"890.4,-125.71 900.08,-121.4 889.83,-118.73 890.4,-125.71\"/>\n",
       "</g>\n",
       "</g>\n",
       "</svg>\n"
      ],
      "text/plain": [
       "<graphviz.graphs.Digraph at 0x7f6ae15c90d0>"
      ]
     },
     "execution_count": 10,
     "metadata": {},
     "output_type": "execute_result"
    }
   ],
   "source": [
    "# We can visualise the workflow using the .draw() method\n",
    "wf.draw()"
   ]
  },
  {
   "cell_type": "markdown",
   "metadata": {},
   "source": [
    "And now you can see how we can quickly create more complex workflows from here - by linking output of previous nodes to outputs of others"
   ]
  }
 ],
 "metadata": {
  "language_info": {
   "name": "python"
  }
 },
 "nbformat": 4,
 "nbformat_minor": 2
}
